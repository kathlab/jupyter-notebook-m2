{
 "cells": [
  {
   "cell_type": "code",
   "execution_count": null,
   "metadata": {},
   "outputs": [],
   "source": [
    "import torch\n",
    "\n",
    "# even if check is calling \"cuda\", the function works for CUDA and ROCm devices\n",
    "if torch.cuda.is_available():\n",
    "    print(\"TORCH CUDA device name: \" + torch.cuda.get_device_name(0))\n",
    "    print(\"TORCH CUDA device count: \" + str(torch.cuda.device_count()))\n",
    "else:\n",
    "    print(\"TORCH device name: \" + \"[CPU]\")"
   ]
  }
 ],
 "metadata": {
  "kernelspec": {
   "display_name": "Python 3",
   "language": "python",
   "name": "python3"
  },
  "language_info": {
   "name": "python",
   "version": "3.9.6 (default, Oct 18 2022, 12:41:40) \n[Clang 14.0.0 (clang-1400.0.29.202)]"
  },
  "vscode": {
   "interpreter": {
    "hash": "31f2aee4e71d21fbe5cf8b01ff0e069b9275f58929596ceb00d14d90e3e16cd6"
   }
  }
 },
 "nbformat": 4,
 "nbformat_minor": 2
}
